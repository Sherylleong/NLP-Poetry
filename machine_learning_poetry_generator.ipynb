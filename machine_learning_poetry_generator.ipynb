{
  "cells": [
    {
      "cell_type": "code",
      "execution_count": 4,
      "metadata": {
        "colab": {
          "base_uri": "https://localhost:8080/",
          "height": 231
        },
        "id": "vwTW0r7FUycX",
        "outputId": "3930791d-7e13-450d-9463-11c17c08c0c1"
      },
      "outputs": [],
      "source": [
        "# Importing dependencies numpy and keras\n",
        "import numpy as np\n",
        "from tensorflow.keras.models import Sequential, load_model\n",
        "from tensorflow.keras.layers import Dense\n",
        "from tensorflow.keras.layers import Dropout, Flatten\n",
        "from tensorflow.keras.layers import LSTM\n",
        "from tensorflow.keras.utils import to_categorical\n",
        "from tensorflow.keras.callbacks import History, ModelCheckpoint\n",
        "import _pickle as pickle\n",
        "\n",
        "history = History()\n",
        "\n",
        "import matplotlib.pyplot as plt\n",
        "\n",
        "# load text\n",
        "filepath = \"sonnets.txt\"\n",
        "# filepath = \"dickinson.txt\"\n",
        "text = (open(filepath).read()).lower()\n",
        "poems = text.split(\"\\n\\n\") # get list of separate poems\n",
        "# char to int mapping\n",
        "unique_chars = sorted(list(set(text)))\n",
        "\n",
        "char_to_int = {}\n",
        "int_to_char = {}\n",
        "\n",
        "for i, c in enumerate (unique_chars):\n",
        "    char_to_int.update({c: i})\n",
        "    int_to_char.update({i: c})\n",
        "\n",
        "# preparing input and output dataset\n",
        "X_data = []\n",
        "y_data = []\n"
      ]
    },
    {
      "cell_type": "code",
      "execution_count": 6,
      "metadata": {
        "id": "uReTDflpwNVh"
      },
      "outputs": [],
      "source": [
        "# predict 51st char based off random string of a poem\n",
        "xlen = 50 # length of each example\n",
        "\n",
        "for poem in poems:\n",
        "    for i in range(0, len(poem) - xlen, 1):\n",
        "        sequence = poem[i:i + xlen]\n",
        "        label = poem[i + xlen]\n",
        "        X_data.append([char_to_int[char] for char in sequence])\n",
        "        y_data.append(char_to_int[label])\n",
        "\n",
        "num_chars = len(unique_chars)\n",
        "# reshaping, normalizing and one hot encoding     \n",
        "X = np.zeros((len(X_data), xlen, num_chars), dtype=np.bool)\n",
        "y = np.zeros((len(y_data), num_chars), dtype=np.bool)\n",
        "for i, sentence in enumerate(X_data):\n",
        "    for n, encoded_char in enumerate(sentence):\n",
        "        X[i, n, encoded_char] = 1\n",
        "    y[i, y_data[i]] = 1\n",
        "\n",
        "# A LSTM network expects the input to be in the form [samples, time steps, features]"
      ]
    },
    {
      "cell_type": "code",
      "execution_count": 23,
      "metadata": {
        "colab": {
          "base_uri": "https://localhost:8080/",
          "height": 326
        },
        "id": "fvKLMQaIcGlx",
        "outputId": "7748d7d6-bada-4429-aa2c-296c03fbb050"
      },
      "outputs": [],
      "source": [
        "# defining the LSTM model\n",
        "model = Sequential()\n",
        "model.add(LSTM(256, input_shape=(X.shape[1], X.shape[2]))) \n",
        "model.add(Dense(y.shape[1], activation='softmax'))\n",
        "\n",
        "model.compile(loss='categorical_crossentropy', optimizer='adam', metrics = ['categorical_accuracy'])"
      ]
    },
    {
      "cell_type": "code",
      "execution_count": 27,
      "metadata": {},
      "outputs": [
        {
          "name": "stdout",
          "output_type": "stream",
          "text": [
            "Epoch 1/20\n",
            "1720/1720 [==============================] - 124s 72ms/step - loss: 0.6106 - categorical_accuracy: 0.8066\n",
            "Epoch 2/20\n",
            "1720/1720 [==============================] - 121s 70ms/step - loss: 0.5822 - categorical_accuracy: 0.8160\n",
            "Epoch 3/20\n",
            "1720/1720 [==============================] - 922s 536ms/step - loss: 0.5629 - categorical_accuracy: 0.8206\n",
            "Epoch 4/20\n",
            "1720/1720 [==============================] - 135s 79ms/step - loss: 0.5340 - categorical_accuracy: 0.8303\n",
            "Epoch 5/20\n",
            "1720/1720 [==============================] - 149s 87ms/step - loss: 0.5125 - categorical_accuracy: 0.8364\n",
            "Epoch 6/20\n",
            "1720/1720 [==============================] - 141s 82ms/step - loss: 0.4939 - categorical_accuracy: 0.8429\n",
            "Epoch 7/20\n",
            "1720/1720 [==============================] - 145s 85ms/step - loss: 0.4756 - categorical_accuracy: 0.8477\n",
            "Epoch 8/20\n",
            "1720/1720 [==============================] - 134s 78ms/step - loss: 0.4574 - categorical_accuracy: 0.8549\n",
            "Epoch 9/20\n",
            "1720/1720 [==============================] - 135s 79ms/step - loss: 0.4459 - categorical_accuracy: 0.8558\n",
            "Epoch 10/20\n",
            "1720/1720 [==============================] - 132s 77ms/step - loss: 0.4251 - categorical_accuracy: 0.8639\n",
            "Epoch 11/20\n",
            "1720/1720 [==============================] - 132s 77ms/step - loss: 0.4122 - categorical_accuracy: 0.8672\n",
            "Epoch 12/20\n",
            "1720/1720 [==============================] - 347s 202ms/step - loss: 0.4027 - categorical_accuracy: 0.8707\n",
            "Epoch 13/20\n",
            "1720/1720 [==============================] - 129s 75ms/step - loss: 0.3905 - categorical_accuracy: 0.8748\n",
            "Epoch 14/20\n",
            "1720/1720 [==============================] - 462s 269ms/step - loss: 0.3812 - categorical_accuracy: 0.8762\n",
            "Epoch 15/20\n",
            "1720/1720 [==============================] - 132s 77ms/step - loss: 0.3673 - categorical_accuracy: 0.8812\n",
            "Epoch 16/20\n",
            "1720/1720 [==============================] - 212s 123ms/step - loss: 0.3653 - categorical_accuracy: 0.8822\n",
            "Epoch 17/20\n",
            "1720/1720 [==============================] - 143s 83ms/step - loss: 0.3561 - categorical_accuracy: 0.8853\n",
            "Epoch 18/20\n",
            "1720/1720 [==============================] - 159s 93ms/step - loss: 0.3444 - categorical_accuracy: 0.8884\n",
            "Epoch 19/20\n",
            "1720/1720 [==============================] - 213s 124ms/step - loss: 0.3339 - categorical_accuracy: 0.8927\n",
            "Epoch 20/20\n",
            "1720/1720 [==============================] - 233s 135ms/step - loss: 0.3256 - categorical_accuracy: 0.8942\n",
            "Model: \"sequential_6\"\n",
            "_________________________________________________________________\n",
            "Layer (type)                 Output Shape              Param #   \n",
            "=================================================================\n",
            "lstm_4 (LSTM)                (None, 256)               302080    \n",
            "_________________________________________________________________\n",
            "dense_4 (Dense)              (None, 38)                9766      \n",
            "=================================================================\n",
            "Total params: 311,846\n",
            "Trainable params: 311,846\n",
            "Non-trainable params: 0\n",
            "_________________________________________________________________\n",
            "{'loss': [0.6105550527572632, 0.5822120904922485, 0.5629200339317322, 0.5339924693107605, 0.5124905109405518, 0.49388742446899414, 0.47562119364738464, 0.4573502540588379, 0.4458847939968109, 0.4250619411468506, 0.4121725857257843, 0.402731716632843, 0.39053842425346375, 0.3811531066894531, 0.3672652244567871, 0.3653051257133484, 0.35614293813705444, 0.3444218635559082, 0.3338918685913086, 0.3255951702594757], 'categorical_accuracy': [0.8066362142562866, 0.8160101175308228, 0.8206157088279724, 0.8303385376930237, 0.8363862633705139, 0.8428875207901001, 0.8477024435997009, 0.8549247980117798, 0.8557970523834229, 0.8639033436775208, 0.867206335067749, 0.8706837296485901, 0.8748008608818054, 0.8761848211288452, 0.8811509013175964, 0.8821976184844971, 0.8852912783622742, 0.8883500099182129, 0.8927462697029114, 0.8941650986671448]}\n"
          ]
        },
        {
          "data": {
            "image/png": "[encoded data removed]",
            "text/plain": [
              "<Figure size 432x288 with 1 Axes>"
            ]
          },
          "metadata": {
            "needs_background": "light"
          },
          "output_type": "display_data"
        }
      ],
      "source": [
        "# fitting the model\n",
        "hist = model.fit(X, y, epochs=20, batch_size=50)\n",
        "\n",
        "model.summary()\n",
        "model.save('sonnets.h5')\n",
        "\n",
        "print(hist.history)\n",
        "\n",
        "# summarize history for loss\n",
        "plt.plot(hist.history['loss'])\n",
        "plt.title('model loss')\n",
        "plt.ylabel('loss')\n",
        "plt.xlabel('epoch')\n",
        "plt.legend(['train', 'test'], loc='upper left')\n",
        "plt.show()"
      ]
    },
    {
      "cell_type": "markdown",
      "metadata": {
        "id": "Ps4xGyB6vJ_Q"
      },
      "source": [
        "For generating of poems"
      ]
    },
    {
      "cell_type": "code",
      "execution_count": 35,
      "metadata": {
        "colab": {
          "base_uri": "https://localhost:8080/"
        },
        "id": "Cp5J0bdISEmF",
        "outputId": "c434624e-21f5-4d16-e669-73cf1911bd6a"
      },
      "outputs": [],
      "source": [
        "# load text\n",
        "filepath = \"sonnets.txt\"\n",
        "# filepath = \"dickinson.txt\"\n",
        "text = (open(filepath).read()).lower()\n",
        "sonnets = text.split(\"\\n\\n\") # get list of separate sonnets\n",
        "# char to int mapping\n",
        "unique_chars = sorted(list(set(text)))\n",
        "\n",
        "num_chars = len(unique_chars)\n",
        "sentence_length = 50\n",
        "corpus_length = len(text)\n",
        "from random import randint\n",
        "char_to_int = {}\n",
        "int_to_char = {}\n",
        "\n",
        "for i, c in enumerate (unique_chars):\n",
        "    char_to_int.update({c: i})\n",
        "    int_to_char.update({i: c})\n",
        "\n",
        "modelpath = \"sonnets.h5\"\n",
        "# modelpath = \"dickinson.h5\"\n",
        "\n",
        "model= load_model(modelpath)\n"
      ]
    },
    {
      "cell_type": "code",
      "execution_count": 37,
      "metadata": {
        "colab": {
          "base_uri": "https://localhost:8080/"
        },
        "id": "JLHzg2315aNg",
        "outputId": "44734a90-fd34-46f9-ec1b-34bc2428ae1e"
      },
      "outputs": [
        {
          "name": "stdout",
          "output_type": "stream",
          "text": [
            "*****************\n",
            "thy hope, turn back to me,\n",
            "and play the mother's p(*prediction starts here*)art, kiss me, be kend;\n",
            "as thou coults my seas, that stall be most show,\n",
            "the most of my broud heart do i not spend?\n",
            "nor use the day to fair thou why elfers thee belveng\n",
            "and such a bath and meal's sweet breast;\n",
            "better whom from heart, though thou depise,\n",
            "what beauty's with my dear more abone mad\n",
            "by deep some what good to be remembered.\n",
            "the mornot love still true my decemsare thines,\n",
            "and one all the sweet ornsmention bland,\n",
            "who all thy beauty like will have ere,\n",
            "mation i am both against my soul sha\n",
            "*****************\n"
          ]
        }
      ],
      "source": [
        "seed = randint(0, corpus_length - sentence_length)\n",
        "seed_phrase = text[seed:seed + sentence_length]\n",
        "\n",
        "Xtest = np.zeros((1, sentence_length, num_chars), dtype=np.bool)\n",
        "for i, character in enumerate(seed_phrase):\n",
        "    Xtest[0, i, char_to_int[character]] = 1\n",
        "\n",
        "print(\"*****************\")\n",
        "\n",
        "\n",
        "test = \"\"\n",
        "for i in range(500):\n",
        "    prediction = np.argmax(model.predict(Xtest, verbose=0))\n",
        "    #prediction = sample(prediction,temp)\n",
        "    test += int_to_char[prediction]\n",
        "\n",
        "    activations = np.zeros((1, 1, num_chars), dtype=np.bool)\n",
        "    activations[0, 0, prediction] = 1\n",
        "    Xtest = np.concatenate((Xtest[:, 1:, :], activations), axis=1)\n",
        "\n",
        "\n",
        "print(seed_phrase + \"(*prediction starts here*)\" + test)\n",
        "print(\"*****************\")\n",
        "# press the play button to generate 500 characters of poetry. it doesnt necessarily make sense"
      ]
    }
  ],
  "metadata": {
    "accelerator": "GPU",
    "colab": {
      "provenance": []
    },
    "kernelspec": {
      "display_name": "Python 3.9.5 64-bit",
      "language": "python",
      "name": "python3"
    },
    "language_info": {
      "codemirror_mode": {
        "name": "ipython",
        "version": 3
      },
      "file_extension": ".py",
      "mimetype": "text/x-python",
      "name": "python",
      "nbconvert_exporter": "python",
      "pygments_lexer": "ipython3",
      "version": "3.9.5"
    },
    "vscode": {
      "interpreter": {
        "hash": "a6a9608c073a0a251cca96ce0e2cd9b5ce8d5558eb8cd8407e2f742a7e582810"
      }
    }
  },
  "nbformat": 4,
  "nbformat_minor": 0
}
